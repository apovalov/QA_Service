{
  "cells": [
    {
      "cell_type": "code",
      "execution_count": 6,
      "metadata": {
        "id": "sjcLv85lRsCo"
      },
      "outputs": [],
      "source": [
        "# !pip install langchain, openai, pinecone-datasets, pinecone-client, trulens_eval\n",
        "# !pip install python-dotenv -q"
      ]
    },
    {
      "cell_type": "code",
      "execution_count": 7,
      "metadata": {
        "colab": {
          "base_uri": "https://localhost:8080/"
        },
        "id": "9KLrZHH1lDfq",
        "outputId": "f1ec25df-51a6-42c2-db09-6afa80e25f63"
      },
      "outputs": [],
      "source": [
        "# from google.colab import drive\n",
        "from dotenv import load_dotenv, find_dotenv\n",
        "import os\n",
        "\n",
        "# Монтируем Google Drive\n",
        "# drive.mount('/content/drive')\n",
        "\n",
        "# # Загружаем .env файл\n",
        "# load_dotenv('/content/drive/My Drive/python/.env')\n",
        "load_dotenv(find_dotenv())\n",
        "\n",
        "# Пример использования переменной среды\n",
        "OPENAI_API_KEY = os.getenv('OPENAI_API_KEY')\n",
        "PINECONE_API_KEY = os.getenv('PINECONE_API_KEY')"
      ]
    },
    {
      "cell_type": "markdown",
      "metadata": {
        "id": "X3M8oRo7iuJO"
      },
      "source": [
        "### Creating the Index in Pinecone"
      ]
    },
    {
      "cell_type": "code",
      "execution_count": 8,
      "metadata": {
        "colab": {
          "base_uri": "https://localhost:8080/",
          "height": 293
        },
        "id": "hUs67robRoRl",
        "outputId": "63cc0671-c22b-4bc9-bf96-eb90f163351b"
      },
      "outputs": [],
      "source": [
        "# import pinecone_datasets\n",
        "\n",
        "# dataset = pinecone_datasets.load_dataset('wikipedia-simple-text-embedding-ada-002-100K')\n",
        "# dataset.head()"
      ]
    },
    {
      "cell_type": "code",
      "execution_count": 9,
      "metadata": {
        "id": "bPzLhJVzTtaL"
      },
      "outputs": [],
      "source": [
        "import os\n",
        "from pinecone import Pinecone, ServerlessSpec\n",
        "\n",
        "# Установите соединение с Pinecone\n",
        "pc = Pinecone(api_key=PINECONE_API_KEY)"
      ]
    },
    {
      "cell_type": "code",
      "execution_count": 10,
      "metadata": {
        "id": "a65OZ6EwRuRV"
      },
      "outputs": [],
      "source": [
        "import pinecone\n",
        "\n",
        "index_name_v1 = \"wiki-test-index\"\n",
        "\n",
        "# # Создайте индекс\n",
        "# pc.create_index(\n",
        "#     name=index_name_v1,\n",
        "#     dimension=1536,\n",
        "#     metric='cosine',\n",
        "#     spec=ServerlessSpec(\n",
        "#         cloud='aws',\n",
        "#         region='us-west-2'\n",
        "#     )\n",
        "# )"
      ]
    },
    {
      "cell_type": "code",
      "execution_count": 11,
      "metadata": {
        "id": "Mbv5-_D6RxMV"
      },
      "outputs": [],
      "source": [
        "# Получите экземпляр индекса\n",
        "index = pc.Index(index_name_v1)\n",
        "\n",
        "# for batch in dataset.iter_documents(batch_size=100):\n",
        "#     index.upsert(batch)"
      ]
    },
    {
      "cell_type": "markdown",
      "metadata": {
        "id": "rKt1UiksiAnV"
      },
      "source": [
        "### Building the Vector Store"
      ]
    },
    {
      "cell_type": "code",
      "execution_count": 12,
      "metadata": {
        "id": "bOgl2kFdgpJh"
      },
      "outputs": [],
      "source": [
        "from langchain_community.embeddings import OpenAIEmbeddings\n",
        "from langchain.vectorstores import Pinecone"
      ]
    },
    {
      "cell_type": "code",
      "execution_count": 13,
      "metadata": {
        "colab": {
          "base_uri": "https://localhost:8080/"
        },
        "id": "CYGAFzTYRzGf",
        "outputId": "b6aeb41b-081a-4526-e50e-f38e92600b3a"
      },
      "outputs": [
        {
          "name": "stderr",
          "output_type": "stream",
          "text": [
            "/Users/valentinshapovalov/opt/anaconda3/lib/python3.9/site-packages/langchain_core/_api/deprecation.py:117: LangChainDeprecationWarning: The class `langchain_community.embeddings.openai.OpenAIEmbeddings` was deprecated in langchain-community 0.1.0 and will be removed in 0.2.0. An updated version of the class exists in the langchain-openai package and should be used instead. To use it run `pip install -U langchain-openai` and import as `from langchain_openai import OpenAIEmbeddings`.\n",
            "  warn_deprecated(\n",
            "/Users/valentinshapovalov/opt/anaconda3/lib/python3.9/site-packages/langchain_community/vectorstores/pinecone.py:75: UserWarning: Passing in `embedding` as a Callable is deprecated. Please pass in an Embeddings object instead.\n",
            "  warnings.warn(\n"
          ]
        }
      ],
      "source": [
        "embed = OpenAIEmbeddings(\n",
        "    model='text-embedding-ada-002',\n",
        "    openai_api_key=OPENAI_API_KEY\n",
        ")\n",
        "\n",
        "text_field = \"text\"\n",
        "\n",
        "vectorstore = Pinecone(\n",
        "    index, embed.embed_query, text_field\n",
        ")"
      ]
    },
    {
      "cell_type": "markdown",
      "metadata": {
        "id": "j5_Rdx4niFZJ"
      },
      "source": [
        "## Initialize our RAG application"
      ]
    },
    {
      "cell_type": "code",
      "execution_count": 14,
      "metadata": {
        "id": "x2nWkj2OhQGI"
      },
      "outputs": [
        {
          "name": "stderr",
          "output_type": "stream",
          "text": [
            "/Users/valentinshapovalov/opt/anaconda3/lib/python3.9/site-packages/langchain_core/_api/deprecation.py:117: LangChainDeprecationWarning: The class `langchain_community.chat_models.openai.ChatOpenAI` was deprecated in langchain-community 0.0.10 and will be removed in 0.2.0. An updated version of the class exists in the langchain-openai package and should be used instead. To use it run `pip install -U langchain-openai` and import as `from langchain_openai import ChatOpenAI`.\n",
            "  warn_deprecated(\n"
          ]
        }
      ],
      "source": [
        "from langchain.chat_models import ChatOpenAI\n",
        "from langchain.chains import RetrievalQA\n",
        "\n",
        "# completion llm\n",
        "llm = ChatOpenAI(\n",
        "    model_name='gpt-3.5-turbo',\n",
        "    temperature=0.0\n",
        ")\n",
        "\n",
        "qa = RetrievalQA.from_chain_type(\n",
        "    llm=llm,\n",
        "    chain_type=\"stuff\",\n",
        "    retriever=vectorstore.as_retriever()\n",
        ")"
      ]
    },
    {
      "cell_type": "markdown",
      "metadata": {
        "id": "N1N4BaqwmwyU"
      },
      "source": [
        "### TruLens for Evaluation and Tracking of LLM Experiments"
      ]
    },
    {
      "cell_type": "code",
      "execution_count": 24,
      "metadata": {},
      "outputs": [
        {
          "name": "stdout",
          "output_type": "stream",
          "text": [
            "Found existing installation: trulens-eval 0.25.0\n",
            "Uninstalling trulens-eval-0.25.0:\n",
            "  Successfully uninstalled trulens-eval-0.25.0\n",
            "Collecting trulens_eval\n",
            "  Downloading trulens_eval-0.25.1-py3-none-any.whl.metadata (3.3 kB)\n",
            "Requirement already satisfied: numpy>=1.23.5 in /Users/valentinshapovalov/opt/anaconda3/lib/python3.9/site-packages (from trulens_eval) (1.24.4)\n",
            "Requirement already satisfied: frozendict>=2.3.8 in /Users/valentinshapovalov/opt/anaconda3/lib/python3.9/site-packages (from trulens_eval) (2.4.0)\n",
            "Requirement already satisfied: munch>=3.0.0 in /Users/valentinshapovalov/opt/anaconda3/lib/python3.9/site-packages (from trulens_eval) (4.0.0)\n",
            "Requirement already satisfied: dill>=0.3.7 in /Users/valentinshapovalov/opt/anaconda3/lib/python3.9/site-packages (from trulens_eval) (0.3.8)\n",
            "Requirement already satisfied: tqdm>=4.66.1 in /Users/valentinshapovalov/opt/anaconda3/lib/python3.9/site-packages (from trulens_eval) (4.66.1)\n",
            "Requirement already satisfied: requests>=2.31.0 in /Users/valentinshapovalov/opt/anaconda3/lib/python3.9/site-packages (from trulens_eval) (2.31.0)\n",
            "Requirement already satisfied: nest-asyncio>=1.5.8 in /Users/valentinshapovalov/opt/anaconda3/lib/python3.9/site-packages (from trulens_eval) (1.6.0)\n",
            "Requirement already satisfied: typing-extensions>=4.9.0 in /Users/valentinshapovalov/opt/anaconda3/lib/python3.9/site-packages (from trulens_eval) (4.10.0)\n",
            "Requirement already satisfied: python-dotenv>=1.0.0 in /Users/valentinshapovalov/opt/anaconda3/lib/python3.9/site-packages (from trulens_eval) (1.0.0)\n",
            "Requirement already satisfied: pydantic<3,>=2 in /Users/valentinshapovalov/opt/anaconda3/lib/python3.9/site-packages (from trulens_eval) (2.6.3)\n",
            "Requirement already satisfied: merkle-json>=1.0.0 in /Users/valentinshapovalov/opt/anaconda3/lib/python3.9/site-packages (from trulens_eval) (1.0.0)\n",
            "Requirement already satisfied: langchain>=0.0.354 in /Users/valentinshapovalov/opt/anaconda3/lib/python3.9/site-packages (from trulens_eval) (0.0.354)\n",
            "Requirement already satisfied: langchain-core>=0.1.6 in /Users/valentinshapovalov/opt/anaconda3/lib/python3.9/site-packages (from trulens_eval) (0.1.30)\n",
            "Requirement already satisfied: typing-inspect>=0.8.0 in /Users/valentinshapovalov/opt/anaconda3/lib/python3.9/site-packages (from trulens_eval) (0.9.0)\n",
            "Requirement already satisfied: millify>=0.1.1 in /Users/valentinshapovalov/opt/anaconda3/lib/python3.9/site-packages (from trulens_eval) (0.1.1)\n",
            "Requirement already satisfied: humanize>=4.6.0 in /Users/valentinshapovalov/opt/anaconda3/lib/python3.9/site-packages (from trulens_eval) (4.9.0)\n",
            "Requirement already satisfied: streamlit>=1.31.1 in /Users/valentinshapovalov/opt/anaconda3/lib/python3.9/site-packages (from trulens_eval) (1.31.1)\n",
            "Requirement already satisfied: streamlit-aggrid>=0.3.4.post3 in /Users/valentinshapovalov/opt/anaconda3/lib/python3.9/site-packages (from trulens_eval) (0.3.4.post3)\n",
            "Requirement already satisfied: streamlit-extras>=0.2.7 in /Users/valentinshapovalov/opt/anaconda3/lib/python3.9/site-packages (from trulens_eval) (0.3.6)\n",
            "Requirement already satisfied: sqlalchemy>=2.0.19 in /Users/valentinshapovalov/opt/anaconda3/lib/python3.9/site-packages (from trulens_eval) (2.0.25)\n",
            "Requirement already satisfied: alembic>=1.11.2 in /Users/valentinshapovalov/opt/anaconda3/lib/python3.9/site-packages (from trulens_eval) (1.13.1)\n",
            "Requirement already satisfied: Mako in /Users/valentinshapovalov/opt/anaconda3/lib/python3.9/site-packages (from alembic>=1.11.2->trulens_eval) (1.2.4)\n",
            "Requirement already satisfied: PyYAML>=5.3 in /Users/valentinshapovalov/opt/anaconda3/lib/python3.9/site-packages (from langchain>=0.0.354->trulens_eval) (6.0.1)\n",
            "Requirement already satisfied: aiohttp<4.0.0,>=3.8.3 in /Users/valentinshapovalov/opt/anaconda3/lib/python3.9/site-packages (from langchain>=0.0.354->trulens_eval) (3.9.1)\n",
            "Requirement already satisfied: async-timeout<5.0.0,>=4.0.0 in /Users/valentinshapovalov/opt/anaconda3/lib/python3.9/site-packages (from langchain>=0.0.354->trulens_eval) (4.0.2)\n",
            "Requirement already satisfied: dataclasses-json<0.7,>=0.5.7 in /Users/valentinshapovalov/opt/anaconda3/lib/python3.9/site-packages (from langchain>=0.0.354->trulens_eval) (0.6.2)\n",
            "Requirement already satisfied: jsonpatch<2.0,>=1.33 in /Users/valentinshapovalov/opt/anaconda3/lib/python3.9/site-packages (from langchain>=0.0.354->trulens_eval) (1.33)\n",
            "Requirement already satisfied: langchain-community<0.1,>=0.0.8 in /Users/valentinshapovalov/opt/anaconda3/lib/python3.9/site-packages (from langchain>=0.0.354->trulens_eval) (0.0.14)\n",
            "Collecting langsmith<0.1.0,>=0.0.77 (from langchain>=0.0.354->trulens_eval)\n",
            "  Using cached langsmith-0.0.92-py3-none-any.whl.metadata (9.9 kB)\n",
            "Requirement already satisfied: tenacity<9.0.0,>=8.1.0 in /Users/valentinshapovalov/opt/anaconda3/lib/python3.9/site-packages (from langchain>=0.0.354->trulens_eval) (8.2.3)\n",
            "Requirement already satisfied: anyio<5,>=3 in /Users/valentinshapovalov/opt/anaconda3/lib/python3.9/site-packages (from langchain-core>=0.1.6->trulens_eval) (3.5.0)\n",
            "INFO: pip is looking at multiple versions of langchain-core to determine which version is compatible with other requirements. This could take a while.\n",
            "Collecting langchain-core>=0.1.6 (from trulens_eval)\n",
            "  Using cached langchain_core-0.1.29-py3-none-any.whl.metadata (6.0 kB)\n",
            "  Using cached langchain_core-0.1.28-py3-none-any.whl.metadata (6.0 kB)\n",
            "  Using cached langchain_core-0.1.27-py3-none-any.whl.metadata (6.0 kB)\n",
            "  Using cached langchain_core-0.1.26-py3-none-any.whl.metadata (6.0 kB)\n",
            "  Using cached langchain_core-0.1.25-py3-none-any.whl.metadata (6.0 kB)\n",
            "  Using cached langchain_core-0.1.24-py3-none-any.whl.metadata (6.0 kB)\n",
            "  Using cached langchain_core-0.1.23-py3-none-any.whl.metadata (6.0 kB)\n",
            "Collecting langsmith<0.1.0,>=0.0.77 (from langchain>=0.0.354->trulens_eval)\n",
            "  Using cached langsmith-0.0.87-py3-none-any.whl.metadata (10 kB)\n",
            "Requirement already satisfied: packaging<24.0,>=23.2 in /Users/valentinshapovalov/opt/anaconda3/lib/python3.9/site-packages (from langchain-core>=0.1.6->trulens_eval) (23.2)\n",
            "Requirement already satisfied: annotated-types>=0.4.0 in /Users/valentinshapovalov/opt/anaconda3/lib/python3.9/site-packages (from pydantic<3,>=2->trulens_eval) (0.6.0)\n",
            "Requirement already satisfied: pydantic-core==2.16.3 in /Users/valentinshapovalov/opt/anaconda3/lib/python3.9/site-packages (from pydantic<3,>=2->trulens_eval) (2.16.3)\n",
            "Requirement already satisfied: charset-normalizer<4,>=2 in /Users/valentinshapovalov/opt/anaconda3/lib/python3.9/site-packages (from requests>=2.31.0->trulens_eval) (3.3.2)\n",
            "Requirement already satisfied: idna<4,>=2.5 in /Users/valentinshapovalov/opt/anaconda3/lib/python3.9/site-packages (from requests>=2.31.0->trulens_eval) (3.6)\n",
            "Requirement already satisfied: urllib3<3,>=1.21.1 in /Users/valentinshapovalov/opt/anaconda3/lib/python3.9/site-packages (from requests>=2.31.0->trulens_eval) (1.26.18)\n",
            "Requirement already satisfied: certifi>=2017.4.17 in /Users/valentinshapovalov/opt/anaconda3/lib/python3.9/site-packages (from requests>=2.31.0->trulens_eval) (2023.7.22)\n",
            "Requirement already satisfied: altair<6,>=4.0 in /Users/valentinshapovalov/opt/anaconda3/lib/python3.9/site-packages (from streamlit>=1.31.1->trulens_eval) (5.1.2)\n",
            "Requirement already satisfied: blinker<2,>=1.0.0 in /Users/valentinshapovalov/opt/anaconda3/lib/python3.9/site-packages (from streamlit>=1.31.1->trulens_eval) (1.6.2)\n",
            "Requirement already satisfied: cachetools<6,>=4.0 in /Users/valentinshapovalov/opt/anaconda3/lib/python3.9/site-packages (from streamlit>=1.31.1->trulens_eval) (5.3.1)\n",
            "Requirement already satisfied: click<9,>=7.0 in /Users/valentinshapovalov/opt/anaconda3/lib/python3.9/site-packages (from streamlit>=1.31.1->trulens_eval) (8.1.7)\n",
            "Requirement already satisfied: importlib-metadata<8,>=1.4 in /Users/valentinshapovalov/opt/anaconda3/lib/python3.9/site-packages (from streamlit>=1.31.1->trulens_eval) (6.8.0)\n",
            "Requirement already satisfied: pandas<3,>=1.3.0 in /Users/valentinshapovalov/opt/anaconda3/lib/python3.9/site-packages (from streamlit>=1.31.1->trulens_eval) (2.1.2)\n",
            "Requirement already satisfied: pillow<11,>=7.1.0 in /Users/valentinshapovalov/opt/anaconda3/lib/python3.9/site-packages (from streamlit>=1.31.1->trulens_eval) (9.2.0)\n",
            "Requirement already satisfied: protobuf<5,>=3.20 in /Users/valentinshapovalov/opt/anaconda3/lib/python3.9/site-packages (from streamlit>=1.31.1->trulens_eval) (4.23.4)\n",
            "Requirement already satisfied: pyarrow>=7.0 in /Users/valentinshapovalov/opt/anaconda3/lib/python3.9/site-packages (from streamlit>=1.31.1->trulens_eval) (11.0.0)\n",
            "Requirement already satisfied: python-dateutil<3,>=2.7.3 in /Users/valentinshapovalov/opt/anaconda3/lib/python3.9/site-packages (from streamlit>=1.31.1->trulens_eval) (2.8.2)\n",
            "Requirement already satisfied: rich<14,>=10.14.0 in /Users/valentinshapovalov/opt/anaconda3/lib/python3.9/site-packages (from streamlit>=1.31.1->trulens_eval) (12.6.0)\n",
            "Requirement already satisfied: toml<2,>=0.10.1 in /Users/valentinshapovalov/opt/anaconda3/lib/python3.9/site-packages (from streamlit>=1.31.1->trulens_eval) (0.10.2)\n",
            "Requirement already satisfied: tzlocal<6,>=1.1 in /Users/valentinshapovalov/opt/anaconda3/lib/python3.9/site-packages (from streamlit>=1.31.1->trulens_eval) (5.2)\n",
            "Requirement already satisfied: validators<1,>=0.2 in /Users/valentinshapovalov/opt/anaconda3/lib/python3.9/site-packages (from streamlit>=1.31.1->trulens_eval) (0.18.2)\n",
            "Requirement already satisfied: gitpython!=3.1.19,<4,>=3.0.7 in /Users/valentinshapovalov/opt/anaconda3/lib/python3.9/site-packages (from streamlit>=1.31.1->trulens_eval) (3.1.31)\n",
            "Requirement already satisfied: pydeck<1,>=0.8.0b4 in /Users/valentinshapovalov/opt/anaconda3/lib/python3.9/site-packages (from streamlit>=1.31.1->trulens_eval) (0.8.1b0)\n",
            "Requirement already satisfied: tornado<7,>=6.0.3 in /Users/valentinshapovalov/opt/anaconda3/lib/python3.9/site-packages (from streamlit>=1.31.1->trulens_eval) (6.1)\n",
            "Requirement already satisfied: python-decouple<4.0,>=3.6 in /Users/valentinshapovalov/opt/anaconda3/lib/python3.9/site-packages (from streamlit-aggrid>=0.3.4.post3->trulens_eval) (3.8)\n",
            "Requirement already satisfied: entrypoints>=0.4 in /Users/valentinshapovalov/opt/anaconda3/lib/python3.9/site-packages (from streamlit-extras>=0.2.7->trulens_eval) (0.4)\n",
            "Requirement already satisfied: htbuilder>=0.6.2 in /Users/valentinshapovalov/opt/anaconda3/lib/python3.9/site-packages (from streamlit-extras>=0.2.7->trulens_eval) (0.6.2)\n",
            "Requirement already satisfied: markdownlit>=0.0.5 in /Users/valentinshapovalov/opt/anaconda3/lib/python3.9/site-packages (from streamlit-extras>=0.2.7->trulens_eval) (0.0.7)\n",
            "Requirement already satisfied: st-annotated-text>=3.0.0 in /Users/valentinshapovalov/opt/anaconda3/lib/python3.9/site-packages (from streamlit-extras>=0.2.7->trulens_eval) (4.0.1)\n",
            "Requirement already satisfied: streamlit-camera-input-live>=0.2.0 in /Users/valentinshapovalov/opt/anaconda3/lib/python3.9/site-packages (from streamlit-extras>=0.2.7->trulens_eval) (0.2.0)\n",
            "Requirement already satisfied: streamlit-card>=0.0.4 in /Users/valentinshapovalov/opt/anaconda3/lib/python3.9/site-packages (from streamlit-extras>=0.2.7->trulens_eval) (1.0.0)\n",
            "Requirement already satisfied: streamlit-embedcode>=0.1.2 in /Users/valentinshapovalov/opt/anaconda3/lib/python3.9/site-packages (from streamlit-extras>=0.2.7->trulens_eval) (0.1.2)\n",
            "Requirement already satisfied: streamlit-faker>=0.0.2 in /Users/valentinshapovalov/opt/anaconda3/lib/python3.9/site-packages (from streamlit-extras>=0.2.7->trulens_eval) (0.0.3)\n",
            "Requirement already satisfied: streamlit-image-coordinates<0.2.0,>=0.1.1 in /Users/valentinshapovalov/opt/anaconda3/lib/python3.9/site-packages (from streamlit-extras>=0.2.7->trulens_eval) (0.1.6)\n",
            "Requirement already satisfied: streamlit-keyup>=0.1.9 in /Users/valentinshapovalov/opt/anaconda3/lib/python3.9/site-packages (from streamlit-extras>=0.2.7->trulens_eval) (0.2.2)\n",
            "Requirement already satisfied: streamlit-toggle-switch>=1.0.2 in /Users/valentinshapovalov/opt/anaconda3/lib/python3.9/site-packages (from streamlit-extras>=0.2.7->trulens_eval) (1.0.2)\n",
            "Requirement already satisfied: streamlit-vertical-slider>=1.0.2 in /Users/valentinshapovalov/opt/anaconda3/lib/python3.9/site-packages (from streamlit-extras>=0.2.7->trulens_eval) (2.5.5)\n",
            "Requirement already satisfied: mypy-extensions>=0.3.0 in /Users/valentinshapovalov/opt/anaconda3/lib/python3.9/site-packages (from typing-inspect>=0.8.0->trulens_eval) (1.0.0)\n",
            "Requirement already satisfied: attrs>=17.3.0 in /Users/valentinshapovalov/opt/anaconda3/lib/python3.9/site-packages (from aiohttp<4.0.0,>=3.8.3->langchain>=0.0.354->trulens_eval) (21.4.0)\n",
            "Requirement already satisfied: multidict<7.0,>=4.5 in /Users/valentinshapovalov/opt/anaconda3/lib/python3.9/site-packages (from aiohttp<4.0.0,>=3.8.3->langchain>=0.0.354->trulens_eval) (6.0.4)\n",
            "Requirement already satisfied: yarl<2.0,>=1.0 in /Users/valentinshapovalov/opt/anaconda3/lib/python3.9/site-packages (from aiohttp<4.0.0,>=3.8.3->langchain>=0.0.354->trulens_eval) (1.9.2)\n",
            "Requirement already satisfied: frozenlist>=1.1.1 in /Users/valentinshapovalov/opt/anaconda3/lib/python3.9/site-packages (from aiohttp<4.0.0,>=3.8.3->langchain>=0.0.354->trulens_eval) (1.3.3)\n",
            "Requirement already satisfied: aiosignal>=1.1.2 in /Users/valentinshapovalov/opt/anaconda3/lib/python3.9/site-packages (from aiohttp<4.0.0,>=3.8.3->langchain>=0.0.354->trulens_eval) (1.3.1)\n",
            "Requirement already satisfied: jinja2 in /Users/valentinshapovalov/opt/anaconda3/lib/python3.9/site-packages (from altair<6,>=4.0->streamlit>=1.31.1->trulens_eval) (3.1.2)\n",
            "Requirement already satisfied: jsonschema>=3.0 in /Users/valentinshapovalov/opt/anaconda3/lib/python3.9/site-packages (from altair<6,>=4.0->streamlit>=1.31.1->trulens_eval) (4.16.0)\n",
            "Requirement already satisfied: toolz in /Users/valentinshapovalov/opt/anaconda3/lib/python3.9/site-packages (from altair<6,>=4.0->streamlit>=1.31.1->trulens_eval) (0.11.2)\n",
            "Requirement already satisfied: sniffio>=1.1 in /Users/valentinshapovalov/opt/anaconda3/lib/python3.9/site-packages (from anyio<5,>=3->langchain-core>=0.1.6->trulens_eval) (1.3.0)\n",
            "Requirement already satisfied: marshmallow<4.0.0,>=3.18.0 in /Users/valentinshapovalov/opt/anaconda3/lib/python3.9/site-packages (from dataclasses-json<0.7,>=0.5.7->langchain>=0.0.354->trulens_eval) (3.20.1)\n",
            "Requirement already satisfied: gitdb<5,>=4.0.1 in /Users/valentinshapovalov/opt/anaconda3/lib/python3.9/site-packages (from gitpython!=3.1.19,<4,>=3.0.7->streamlit>=1.31.1->trulens_eval) (4.0.10)\n",
            "Requirement already satisfied: more-itertools in /Users/valentinshapovalov/opt/anaconda3/lib/python3.9/site-packages (from htbuilder>=0.6.2->streamlit-extras>=0.2.7->trulens_eval) (10.1.0)\n",
            "Requirement already satisfied: zipp>=0.5 in /Users/valentinshapovalov/opt/anaconda3/lib/python3.9/site-packages (from importlib-metadata<8,>=1.4->streamlit>=1.31.1->trulens_eval) (3.8.0)\n",
            "Requirement already satisfied: jsonpointer>=1.9 in /Users/valentinshapovalov/opt/anaconda3/lib/python3.9/site-packages (from jsonpatch<2.0,>=1.33->langchain>=0.0.354->trulens_eval) (2.4)\n",
            "Requirement already satisfied: markdown in /Users/valentinshapovalov/opt/anaconda3/lib/python3.9/site-packages (from markdownlit>=0.0.5->streamlit-extras>=0.2.7->trulens_eval) (3.5.2)\n",
            "Requirement already satisfied: lxml in /Users/valentinshapovalov/opt/anaconda3/lib/python3.9/site-packages (from markdownlit>=0.0.5->streamlit-extras>=0.2.7->trulens_eval) (5.1.0)\n",
            "Requirement already satisfied: favicon in /Users/valentinshapovalov/opt/anaconda3/lib/python3.9/site-packages (from markdownlit>=0.0.5->streamlit-extras>=0.2.7->trulens_eval) (0.7.0)\n",
            "Requirement already satisfied: pymdown-extensions in /Users/valentinshapovalov/opt/anaconda3/lib/python3.9/site-packages (from markdownlit>=0.0.5->streamlit-extras>=0.2.7->trulens_eval) (10.7)\n",
            "Requirement already satisfied: pytz>=2020.1 in /Users/valentinshapovalov/opt/anaconda3/lib/python3.9/site-packages (from pandas<3,>=1.3.0->streamlit>=1.31.1->trulens_eval) (2022.1)\n",
            "Requirement already satisfied: tzdata>=2022.1 in /Users/valentinshapovalov/opt/anaconda3/lib/python3.9/site-packages (from pandas<3,>=1.3.0->streamlit>=1.31.1->trulens_eval) (2023.3)\n",
            "Requirement already satisfied: six>=1.5 in /Users/valentinshapovalov/opt/anaconda3/lib/python3.9/site-packages (from python-dateutil<3,>=2.7.3->streamlit>=1.31.1->trulens_eval) (1.16.0)\n",
            "Requirement already satisfied: commonmark<0.10.0,>=0.9.0 in /Users/valentinshapovalov/opt/anaconda3/lib/python3.9/site-packages (from rich<14,>=10.14.0->streamlit>=1.31.1->trulens_eval) (0.9.1)\n",
            "Requirement already satisfied: pygments<3.0.0,>=2.6.0 in /Users/valentinshapovalov/opt/anaconda3/lib/python3.9/site-packages (from rich<14,>=10.14.0->streamlit>=1.31.1->trulens_eval) (2.15.1)\n",
            "Requirement already satisfied: faker in /Users/valentinshapovalov/opt/anaconda3/lib/python3.9/site-packages (from streamlit-faker>=0.0.2->streamlit-extras>=0.2.7->trulens_eval) (22.5.1)\n",
            "Requirement already satisfied: matplotlib in /Users/valentinshapovalov/opt/anaconda3/lib/python3.9/site-packages (from streamlit-faker>=0.0.2->streamlit-extras>=0.2.7->trulens_eval) (3.5.2)\n",
            "Requirement already satisfied: decorator>=3.4.0 in /Users/valentinshapovalov/opt/anaconda3/lib/python3.9/site-packages (from validators<1,>=0.2->streamlit>=1.31.1->trulens_eval) (4.4.2)\n",
            "Requirement already satisfied: MarkupSafe>=0.9.2 in /Users/valentinshapovalov/opt/anaconda3/lib/python3.9/site-packages (from Mako->alembic>=1.11.2->trulens_eval) (2.1.1)\n",
            "Requirement already satisfied: smmap<6,>=3.0.1 in /Users/valentinshapovalov/opt/anaconda3/lib/python3.9/site-packages (from gitdb<5,>=4.0.1->gitpython!=3.1.19,<4,>=3.0.7->streamlit>=1.31.1->trulens_eval) (5.0.0)\n",
            "Requirement already satisfied: pyrsistent!=0.17.0,!=0.17.1,!=0.17.2,>=0.14.0 in /Users/valentinshapovalov/opt/anaconda3/lib/python3.9/site-packages (from jsonschema>=3.0->altair<6,>=4.0->streamlit>=1.31.1->trulens_eval) (0.18.0)\n",
            "Requirement already satisfied: beautifulsoup4>=4.7.0 in /Users/valentinshapovalov/opt/anaconda3/lib/python3.9/site-packages (from favicon->markdownlit>=0.0.5->streamlit-extras>=0.2.7->trulens_eval) (4.11.1)\n",
            "Requirement already satisfied: cycler>=0.10 in /Users/valentinshapovalov/opt/anaconda3/lib/python3.9/site-packages (from matplotlib->streamlit-faker>=0.0.2->streamlit-extras>=0.2.7->trulens_eval) (0.11.0)\n",
            "Requirement already satisfied: fonttools>=4.22.0 in /Users/valentinshapovalov/opt/anaconda3/lib/python3.9/site-packages (from matplotlib->streamlit-faker>=0.0.2->streamlit-extras>=0.2.7->trulens_eval) (4.25.0)\n",
            "Requirement already satisfied: kiwisolver>=1.0.1 in /Users/valentinshapovalov/opt/anaconda3/lib/python3.9/site-packages (from matplotlib->streamlit-faker>=0.0.2->streamlit-extras>=0.2.7->trulens_eval) (1.4.2)\n",
            "Requirement already satisfied: pyparsing>=2.2.1 in /Users/valentinshapovalov/opt/anaconda3/lib/python3.9/site-packages (from matplotlib->streamlit-faker>=0.0.2->streamlit-extras>=0.2.7->trulens_eval) (2.4.7)\n",
            "Requirement already satisfied: soupsieve>1.2 in /Users/valentinshapovalov/opt/anaconda3/lib/python3.9/site-packages (from beautifulsoup4>=4.7.0->favicon->markdownlit>=0.0.5->streamlit-extras>=0.2.7->trulens_eval) (2.3.1)\n",
            "Downloading trulens_eval-0.25.1-py3-none-any.whl (673 kB)\n",
            "\u001b[2K   \u001b[90m━━━━━━━━━━━━━━━━━━━━━━━━━━━━━━━━━━━━━━━\u001b[0m \u001b[32m673.5/673.5 kB\u001b[0m \u001b[31m878.4 kB/s\u001b[0m eta \u001b[36m0:00:00\u001b[0ma \u001b[36m0:00:01\u001b[0m\n",
            "\u001b[?25hUsing cached langchain_core-0.1.23-py3-none-any.whl (241 kB)\n",
            "Using cached langsmith-0.0.87-py3-none-any.whl (55 kB)\n",
            "Installing collected packages: langsmith, langchain-core, trulens_eval\n",
            "  Attempting uninstall: langsmith\n",
            "    Found existing installation: langsmith 0.1.22\n",
            "    Uninstalling langsmith-0.1.22:\n",
            "      Successfully uninstalled langsmith-0.1.22\n",
            "  Attempting uninstall: langchain-core\n",
            "    Found existing installation: langchain-core 0.1.30\n",
            "    Uninstalling langchain-core-0.1.30:\n",
            "      Successfully uninstalled langchain-core-0.1.30\n",
            "\u001b[31mERROR: pip's dependency resolver does not currently take into account all the packages that are installed. This behaviour is the source of the following dependency conflicts.\n",
            "langchain-openai 0.0.7 requires langchain-core<0.2.0,>=0.1.26, but you have langchain-core 0.1.23 which is incompatible.\u001b[0m\u001b[31m\n",
            "\u001b[0mSuccessfully installed langchain-core-0.1.23 langsmith-0.0.87 trulens_eval-0.25.1\n"
          ]
        }
      ],
      "source": [
        "!pip uninstall -y trulens_eval\n",
        "!pip install trulens_eval"
      ]
    },
    {
      "cell_type": "code",
      "execution_count": 26,
      "metadata": {
        "colab": {
          "base_uri": "https://localhost:8080/",
          "height": 1000
        },
        "id": "HkZo9lhqmzTF",
        "outputId": "14f920e9-9d5e-417a-ee47-cc4b99e13f27"
      },
      "outputs": [
        {
          "ename": "VersionConflict",
          "evalue": "Package pydantic is installed but has a version conflict:\n\t(pydantic 1.10.14 (/Users/valentinshapovalov/opt/anaconda3/lib/python3.9/site-packages), Requirement.parse('pydantic<3,>=2'))\n\nThis package is required for trulens_eval. Please resolve the conflict by\ninstalling a compatible version with:\n\n    ```bash\n    pip install 'pydantic<3,>=2'\n    ```\n\nIf you are running trulens_eval in a notebook, you may need to restart the\nkernel after resolving the conflict. If your distribution is in a bad place\nbeyond this package, you may need to reinstall trulens_eval so that all of the\ndependencies get installed and hopefully corrected:\n    \n    ```bash\n    pip uninstall -y trulens_eval\n    pip install trulens_eval\n    ```\n",
          "output_type": "error",
          "traceback": [
            "\u001b[0;31m---------------------------------------------------------------------------\u001b[0m",
            "\u001b[0;31mVersionConflict\u001b[0m                           Traceback (most recent call last)",
            "File \u001b[0;32m~/opt/anaconda3/lib/python3.9/site-packages/trulens_eval/utils/imports.py:75\u001b[0m, in \u001b[0;36mcheck_imports\u001b[0;34m(ignore_version_mismatch)\u001b[0m\n\u001b[1;32m     74\u001b[0m \u001b[38;5;28;01mtry\u001b[39;00m:\n\u001b[0;32m---> 75\u001b[0m     \u001b[43mget_distribution\u001b[49m\u001b[43m(\u001b[49m\u001b[43mreq\u001b[49m\u001b[43m)\u001b[49m\n\u001b[1;32m     77\u001b[0m \u001b[38;5;28;01mexcept\u001b[39;00m VersionConflict \u001b[38;5;28;01mas\u001b[39;00m e:\n",
            "File \u001b[0;32m~/opt/anaconda3/lib/python3.9/site-packages/pkg_resources/__init__.py:528\u001b[0m, in \u001b[0;36mget_distribution\u001b[0;34m(dist)\u001b[0m\n\u001b[1;32m    527\u001b[0m \u001b[38;5;28;01mif\u001b[39;00m \u001b[38;5;28misinstance\u001b[39m(dist, Requirement):\n\u001b[0;32m--> 528\u001b[0m     dist \u001b[38;5;241m=\u001b[39m \u001b[43mget_provider\u001b[49m\u001b[43m(\u001b[49m\u001b[43mdist\u001b[49m\u001b[43m)\u001b[49m\n\u001b[1;32m    529\u001b[0m \u001b[38;5;28;01mif\u001b[39;00m \u001b[38;5;129;01mnot\u001b[39;00m \u001b[38;5;28misinstance\u001b[39m(dist, Distribution):\n",
            "File \u001b[0;32m~/opt/anaconda3/lib/python3.9/site-packages/pkg_resources/__init__.py:400\u001b[0m, in \u001b[0;36mget_provider\u001b[0;34m(moduleOrReq)\u001b[0m\n\u001b[1;32m    399\u001b[0m \u001b[38;5;28;01mif\u001b[39;00m \u001b[38;5;28misinstance\u001b[39m(moduleOrReq, Requirement):\n\u001b[0;32m--> 400\u001b[0m     \u001b[38;5;28;01mreturn\u001b[39;00m \u001b[43mworking_set\u001b[49m\u001b[38;5;241;43m.\u001b[39;49m\u001b[43mfind\u001b[49m\u001b[43m(\u001b[49m\u001b[43mmoduleOrReq\u001b[49m\u001b[43m)\u001b[49m \u001b[38;5;129;01mor\u001b[39;00m require(\u001b[38;5;28mstr\u001b[39m(moduleOrReq))[\u001b[38;5;241m0\u001b[39m]\n\u001b[1;32m    401\u001b[0m \u001b[38;5;28;01mtry\u001b[39;00m:\n",
            "File \u001b[0;32m~/opt/anaconda3/lib/python3.9/site-packages/pkg_resources/__init__.py:699\u001b[0m, in \u001b[0;36mWorkingSet.find\u001b[0;34m(self, req)\u001b[0m\n\u001b[1;32m    697\u001b[0m \u001b[38;5;28;01mif\u001b[39;00m dist \u001b[38;5;129;01mis\u001b[39;00m \u001b[38;5;129;01mnot\u001b[39;00m \u001b[38;5;28;01mNone\u001b[39;00m \u001b[38;5;129;01mand\u001b[39;00m dist \u001b[38;5;129;01mnot\u001b[39;00m \u001b[38;5;129;01min\u001b[39;00m req:\n\u001b[1;32m    698\u001b[0m     \u001b[38;5;66;03m# XXX add more info\u001b[39;00m\n\u001b[0;32m--> 699\u001b[0m     \u001b[38;5;28;01mraise\u001b[39;00m VersionConflict(dist, req)\n\u001b[1;32m    700\u001b[0m \u001b[38;5;28;01mreturn\u001b[39;00m dist\n",
            "\u001b[0;31mVersionConflict\u001b[0m: (pydantic 1.10.14 (/Users/valentinshapovalov/opt/anaconda3/lib/python3.9/site-packages), Requirement.parse('pydantic<3,>=2'))",
            "\nThe above exception was the direct cause of the following exception:\n",
            "\u001b[0;31mVersionConflict\u001b[0m                           Traceback (most recent call last)",
            "Input \u001b[0;32mIn [26]\u001b[0m, in \u001b[0;36m<cell line: 2>\u001b[0;34m()\u001b[0m\n\u001b[1;32m      1\u001b[0m \u001b[38;5;66;03m# Imports main tools for eval\u001b[39;00m\n\u001b[0;32m----> 2\u001b[0m \u001b[38;5;28;01mfrom\u001b[39;00m \u001b[38;5;21;01mtrulens_eval\u001b[39;00m \u001b[38;5;28;01mimport\u001b[39;00m TruChain, Feedback, Tru, feedback, Select\n\u001b[1;32m      3\u001b[0m \u001b[38;5;28;01mimport\u001b[39;00m \u001b[38;5;21;01mnumpy\u001b[39;00m \u001b[38;5;28;01mas\u001b[39;00m \u001b[38;5;21;01mnp\u001b[39;00m\n\u001b[1;32m      4\u001b[0m tru \u001b[38;5;241m=\u001b[39m Tru()\n",
            "File \u001b[0;32m~/opt/anaconda3/lib/python3.9/site-packages/trulens_eval/__init__.py:99\u001b[0m, in \u001b[0;36m<module>\u001b[0;34m\u001b[0m\n\u001b[1;32m     94\u001b[0m \u001b[38;5;66;03m# This check is intentionally done ahead of the other imports as we want to\u001b[39;00m\n\u001b[1;32m     95\u001b[0m \u001b[38;5;66;03m# print out a nice warning/error before an import error happens further down\u001b[39;00m\n\u001b[1;32m     96\u001b[0m \u001b[38;5;66;03m# this sequence.\u001b[39;00m\n\u001b[1;32m     97\u001b[0m \u001b[38;5;28;01mfrom\u001b[39;00m \u001b[38;5;21;01mtrulens_eval\u001b[39;00m\u001b[38;5;21;01m.\u001b[39;00m\u001b[38;5;21;01mutils\u001b[39;00m\u001b[38;5;21;01m.\u001b[39;00m\u001b[38;5;21;01mimports\u001b[39;00m \u001b[38;5;28;01mimport\u001b[39;00m check_imports\n\u001b[0;32m---> 99\u001b[0m \u001b[43mcheck_imports\u001b[49m\u001b[43m(\u001b[49m\u001b[43m)\u001b[49m\n\u001b[1;32m    101\u001b[0m \u001b[38;5;28;01mfrom\u001b[39;00m \u001b[38;5;21;01mtrulens_eval\u001b[39;00m\u001b[38;5;21;01m.\u001b[39;00m\u001b[38;5;21;01mfeedback\u001b[39;00m \u001b[38;5;28;01mimport\u001b[39;00m Feedback\n\u001b[1;32m    102\u001b[0m \u001b[38;5;28;01mfrom\u001b[39;00m \u001b[38;5;21;01mtrulens_eval\u001b[39;00m\u001b[38;5;21;01m.\u001b[39;00m\u001b[38;5;21;01mfeedback\u001b[39;00m \u001b[38;5;28;01mimport\u001b[39;00m Langchain\n",
            "File \u001b[0;32m~/opt/anaconda3/lib/python3.9/site-packages/trulens_eval/utils/imports.py:115\u001b[0m, in \u001b[0;36mcheck_imports\u001b[0;34m(ignore_version_mismatch)\u001b[0m\n\u001b[1;32m    102\u001b[0m             message \u001b[38;5;241m+\u001b[39m\u001b[38;5;241m=\u001b[39m \u001b[38;5;124m\"\"\"\u001b[39m\n\u001b[1;32m    103\u001b[0m \u001b[38;5;124mIf you are running trulens_eval in a notebook, you may need to restart the\u001b[39m\n\u001b[1;32m    104\u001b[0m \u001b[38;5;124mkernel after resolving the conflict. If your distribution is in a bad place\u001b[39m\n\u001b[0;32m   (...)\u001b[0m\n\u001b[1;32m    111\u001b[0m \u001b[38;5;124m    ```\u001b[39m\n\u001b[1;32m    112\u001b[0m \u001b[38;5;124m\"\"\"\u001b[39m\n\u001b[1;32m    114\u001b[0m             \u001b[38;5;28;01mif\u001b[39;00m (\u001b[38;5;129;01mnot\u001b[39;00m is_optional) \u001b[38;5;129;01mand\u001b[39;00m (\u001b[38;5;129;01mnot\u001b[39;00m ignore_version_mismatch):\n\u001b[0;32m--> 115\u001b[0m                 \u001b[38;5;28;01mraise\u001b[39;00m VersionConflict(message) \u001b[38;5;28;01mfrom\u001b[39;00m \u001b[38;5;21;01me\u001b[39;00m\n\u001b[1;32m    116\u001b[0m             \u001b[38;5;28;01melse\u001b[39;00m:\n\u001b[1;32m    117\u001b[0m                 logger\u001b[38;5;241m.\u001b[39mwarning(message)\n",
            "\u001b[0;31mVersionConflict\u001b[0m: Package pydantic is installed but has a version conflict:\n\t(pydantic 1.10.14 (/Users/valentinshapovalov/opt/anaconda3/lib/python3.9/site-packages), Requirement.parse('pydantic<3,>=2'))\n\nThis package is required for trulens_eval. Please resolve the conflict by\ninstalling a compatible version with:\n\n    ```bash\n    pip install 'pydantic<3,>=2'\n    ```\n\nIf you are running trulens_eval in a notebook, you may need to restart the\nkernel after resolving the conflict. If your distribution is in a bad place\nbeyond this package, you may need to reinstall trulens_eval so that all of the\ndependencies get installed and hopefully corrected:\n    \n    ```bash\n    pip uninstall -y trulens_eval\n    pip install trulens_eval\n    ```\n"
          ]
        }
      ],
      "source": [
        "# Imports main tools for eval\n",
        "from trulens_eval import TruChain, Feedback, Tru, feedback, Select\n",
        "import numpy as np\n",
        "tru = Tru()\n",
        "\n",
        "# OpenAI as feedback provider\n",
        "openai = feedback.OpenAI()\n",
        "\n",
        "# Question/answer relevance between overall question and answer.\n",
        "qa_relevance = Feedback(openai.relevance).on_input_output()\n",
        "\n",
        "# Question/statement relevance between question and each context chunk.\n",
        "qs_relevance = Feedback(openai.qs_relevance).on_input().on(Select.Record.app.combine_documents_chain._call.args.inputs.input_documents[:].page_content).aggregate(np.mean)\n"
      ]
    },
    {
      "cell_type": "code",
      "execution_count": null,
      "metadata": {
        "id": "bs_6rO32rx9G"
      },
      "outputs": [],
      "source": [
        "# wrap with TruLens\n",
        "truchain = TruChain(qa,\n",
        "    app_id='Chain1_WikipediaQA',\n",
        "    feedbacks=[qa_relevance, qs_relevance])\n",
        "\n",
        "truchain(“Which state is Washington D.C. in?”)"
      ]
    },
    {
      "cell_type": "code",
      "execution_count": null,
      "metadata": {
        "id": "wF44oyLLr0QL"
      },
      "outputs": [],
      "source": [
        "tru.run_dashboard()"
      ]
    }
  ],
  "metadata": {
    "colab": {
      "provenance": []
    },
    "kernelspec": {
      "display_name": "Python 3",
      "name": "python3"
    },
    "language_info": {
      "codemirror_mode": {
        "name": "ipython",
        "version": 3
      },
      "file_extension": ".py",
      "mimetype": "text/x-python",
      "name": "python",
      "nbconvert_exporter": "python",
      "pygments_lexer": "ipython3",
      "version": "3.9.13"
    }
  },
  "nbformat": 4,
  "nbformat_minor": 0
}
